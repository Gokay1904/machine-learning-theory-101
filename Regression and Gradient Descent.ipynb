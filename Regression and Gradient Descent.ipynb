{
 "cells": [
  {
   "cell_type": "markdown",
   "id": "0f3b3c3f",
   "metadata": {},
   "source": [
    "# REGRESSION TYPES & GRADIENT DESCENT IMPLEMENTATION"
   ]
  },
  {
   "cell_type": "code",
   "execution_count": 1,
   "id": "82e888af",
   "metadata": {},
   "outputs": [],
   "source": [
    "import numpy as np\n",
    "import pandas as pd\n",
    "import matplotlib.pyplot as plt\n",
    "import copy\n",
    "import math\n",
    "import random\n",
    "from sklearn.datasets import make_regression"
   ]
  },
  {
   "cell_type": "code",
   "execution_count": 2,
   "id": "ebfd0b3f",
   "metadata": {},
   "outputs": [],
   "source": [
    "# Random Dataset\n",
    "\n",
    "mu = 0.1 #mean\n",
    "sigma = 0.1 #standard deviation\n",
    "\n",
    "size_ = 200\n",
    "\n",
    "x = np.arange(0,size_)\n",
    "y = np.random.uniform(0,1,size_)"
   ]
  },
  {
   "cell_type": "markdown",
   "id": "88466f39",
   "metadata": {},
   "source": [
    "## Linear Regression"
   ]
  },
  {
   "cell_type": "markdown",
   "id": "14f4160d",
   "metadata": {},
   "source": [
    "### Implementation of Cost Function"
   ]
  },
  {
   "cell_type": "code",
   "execution_count": 3,
   "id": "bfcda81c",
   "metadata": {},
   "outputs": [],
   "source": [
    "def compute_cost(X,y,w,b,lambda_ = 0):\n",
    "    \n",
    "    m = x.shape[0]\n",
    "    \n",
    "    # Weights mean slope in simple 2D linear regression model\n",
    "  \n",
    "    f_wb = np.dot(w,X) + b\n",
    "    \n",
    "    total_cost = 0\n",
    "    \n",
    "    # Deviation from the actual model is expressed in cost.\n",
    "    \n",
    "    # Lower cost means over-fit, higher means under-fit.\n",
    "    \n",
    "    for i in range(m):\n",
    "        total_cost = total_cost + (1/(2*m)) * (f_wb[i]- y[i])**2\n",
    "        \n",
    "    return total_cost"
   ]
  },
  {
   "cell_type": "markdown",
   "id": "4de960f4",
   "metadata": {},
   "source": [
    "### Gradient Function for Linear Regression"
   ]
  },
  {
   "cell_type": "code",
   "execution_count": 4,
   "id": "6626230b",
   "metadata": {},
   "outputs": [],
   "source": [
    "def gradient_function(X,y,w,b,lambda_ = 0):\n",
    "    \n",
    "    # The gradient function examines the effect of weights and biases on cost.\n",
    "    # At the points where the gradient function approaches 0, the cost becomes minimum.\n",
    "    \n",
    "    m = x.shape[0]\n",
    "    f_wb = np.dot(w,X) + b\n",
    "    \n",
    "    dj_dw = 0\n",
    "    dj_db = 0\n",
    "    \n",
    "    for i in range(m):\n",
    "        dj_dw = dj_dw + (1/(m)) * (f_wb[i]- y[i]) * X[i]\n",
    "        dj_db = dj_db + (1/(m)) * (f_wb[i]- y[i])\n",
    "    \n",
    "    return dj_dw, dj_db\n",
    "    "
   ]
  },
  {
   "cell_type": "markdown",
   "id": "9c717713",
   "metadata": {},
   "source": [
    "### Gradient Descent"
   ]
  },
  {
   "cell_type": "code",
   "execution_count": 5,
   "id": "24218e4b",
   "metadata": {},
   "outputs": [],
   "source": [
    "def gradient_descent(X,y,b_in, w_in, w_out, cost_function,gradient_function,learning_rate = 0.001,iteration = 10000,lambda_ = 0):\n",
    "    \n",
    "    # Gradient descent is the slope (gradient) of a cost function over time (iterations).\n",
    "    # It finds the points where the limit converges to 0.\n",
    "\n",
    "    \n",
    "    m = x.shape[0]\n",
    "    \n",
    "    J_history = []\n",
    "    w_history = []\n",
    "    \n",
    "    #Initially, random weights and bias are given.\n",
    "\n",
    "    w = w_in\n",
    "    b = b_in\n",
    "    \n",
    "    for i in range(iteration):\n",
    "    \n",
    "        # At each iteration, a new weight and gradient corresponding to the bias are calculated.\n",
    "\n",
    "        # Since the learning rate will be small where the derivative goes to 0, the effect of the derivative \n",
    "        #                                 on the learning rate will converge to zero in the last iteration.\n",
    "\n",
    "        dj_dw,dj_db = gradient_function(X,y,w,b,lambda_)\n",
    "        w = w - learning_rate * dj_dw\n",
    "        b = b - learning_rate * dj_db \n",
    "        \n",
    "        if i<10000:      \n",
    "            # It is enough to save the last steps for the program to work optimally.\n",
    "            cost = cost_function(X,y,w,b,lambda_)\n",
    "            J_history.append(cost)\n",
    "            \n",
    "        if i%math.ceil(iteration/10) == 0:\n",
    "            w_history.append(w)\n",
    "            print(f\"Iteration {i:3}: Cost {J_history[-1]}   \")\n",
    "    \n",
    "    return w, b, J_history, w_history #w and J is for graphing\n",
    "    "
   ]
  },
  {
   "cell_type": "code",
   "execution_count": 6,
   "id": "38094694",
   "metadata": {},
   "outputs": [
    {
     "name": "stdout",
     "output_type": "stream",
     "text": [
      "Iteration   0: Cost 0.08791999198801206   \n",
      "Iteration 1000: Cost 0.07697358007072862   \n",
      "Iteration 2000: Cost 0.07535509215319887   \n",
      "Iteration 3000: Cost 0.07381611408716073   \n",
      "Iteration 4000: Cost 0.0723527398709597   \n",
      "Iteration 5000: Cost 0.07096125538921191   \n",
      "Iteration 6000: Cost 0.06963812898619837   \n",
      "Iteration 7000: Cost 0.06838000250234955   \n",
      "Iteration 8000: Cost 0.0671836827510721   \n",
      "Iteration 9000: Cost 0.06604613341428496   \n"
     ]
    }
   ],
   "source": [
    "w_in = 0\n",
    "w_out = 0\n",
    "b = 0\n",
    "descent = gradient_descent(x,y,b,w_in,w_out,compute_cost,gradient_function,0.0001,10000)"
   ]
  },
  {
   "cell_type": "code",
   "execution_count": 7,
   "id": "f6c983b5",
   "metadata": {
    "scrolled": true
   },
   "outputs": [
    {
     "data": {
      "text/plain": [
       "[<matplotlib.lines.Line2D at 0x1f86b5d2fe0>]"
      ]
     },
     "execution_count": 7,
     "metadata": {},
     "output_type": "execute_result"
    },
    {
     "data": {
      "image/png": "[encoded data removed]",
      "text/plain": [
       "<Figure size 640x480 with 1 Axes>"
      ]
     },
     "metadata": {},
     "output_type": "display_data"
    }
   ],
   "source": [
    "plt.scatter(x,y)\n",
    "plt.plot(x,np.dot(descent[0],x)+descent[1])"
   ]
  },
  {
   "cell_type": "markdown",
   "id": "f197a16d",
   "metadata": {},
   "source": [
    "## LOGISTIC REGRESSION"
   ]
  },
  {
   "cell_type": "code",
   "execution_count": 8,
   "id": "20c8c722",
   "metadata": {},
   "outputs": [],
   "source": [
    "def sigmoid(z):\n",
    "    # Sigmoid function gives values between 0 and 1. Mostly used in classification and probability.\n",
    "    return 1/ (1 + np.exp(-z))"
   ]
  },
  {
   "cell_type": "markdown",
   "id": "bdc0329b",
   "metadata": {},
   "source": [
    "### Implementation of Cost Function"
   ]
  },
  {
   "cell_type": "code",
   "execution_count": 9,
   "id": "900d8a38",
   "metadata": {},
   "outputs": [],
   "source": [
    "def logistic_cost(X,y,w,b, lambda_ = 1):\n",
    "    \n",
    "    m, n = X.shape\n",
    "    \n",
    "    j_cost_sum = 0\n",
    "    \n",
    "    for i in range(m):\n",
    "        \n",
    "        z_wb = 0\n",
    "        j_cost = 0\n",
    "        \n",
    "        for j in range(n):\n",
    "            z_wb_ij = w[j] * X[i,j]\n",
    "            z_wb += z_wb_ij\n",
    "            \n",
    "        z_wb += b\n",
    "        \n",
    "        f_wb = sigmoid(z_wb)\n",
    "        \n",
    "        j_cost = -y[i] * np.log(f_wb) - (1-y[i]) * np.log(1 -f_wb)\n",
    "        \n",
    "        j_cost_sum += j_cost\n",
    "    \n",
    "    total_sum = (1/m) * j_cost_sum\n",
    "        \n",
    "    return total_sum\n",
    "    "
   ]
  },
  {
   "cell_type": "code",
   "execution_count": 10,
   "id": "d1d2a121",
   "metadata": {},
   "outputs": [],
   "source": [
    "### Gradient of Cost Function"
   ]
  },
  {
   "cell_type": "code",
   "execution_count": 11,
   "id": "da1dd13c",
   "metadata": {},
   "outputs": [],
   "source": [
    "def logistic_gradient(X,y,w,b,lambda_ = 1):\n",
    "    \n",
    "    m,n = X.shape\n",
    "    \n",
    "    dj_dw = np.zeros(w.shape)\n",
    "    dj_db = 0\n",
    "    \n",
    "    for i in range(m):\n",
    "        z_wb = 0\n",
    "        for j in range(n):\n",
    "            z_wb += w[j] * x[i,j]\n",
    "            \n",
    "        z_wb += b\n",
    "        f_wb = sigmoid(z_wb)\n",
    "        \n",
    "        dj_db_i = f_wb-y[i]\n",
    "        dj_db += dj_db_i\n",
    "        \n",
    "        for j in range(n):\n",
    "            dj_dw_ij = (f_wb - y[i])*X[i,j]\n",
    "            dj_dw[j] += dj_dw_ij\n",
    "\n",
    "                \n",
    "    return (1/m) * dj_dw, (1/m) * dj_db\n",
    "            \n",
    "            "
   ]
  },
  {
   "cell_type": "markdown",
   "id": "ceb29493",
   "metadata": {},
   "source": [
    "Random Dataset"
   ]
  },
  {
   "cell_type": "code",
   "execution_count": 12,
   "id": "4763f8a5",
   "metadata": {},
   "outputs": [],
   "source": [
    "size = 30\n",
    "x = np.random.rand(size,2)\n",
    "y = np.zeros(size)\n",
    "\n",
    "for i in range(size):\n",
    "    y[i] = 0\n",
    "    if(i > size/2):\n",
    "        y[i] = 1"
   ]
  },
  {
   "cell_type": "code",
   "execution_count": 13,
   "id": "86b1dff9",
   "metadata": {},
   "outputs": [],
   "source": [
    "np.random.seed(1)\n",
    "w_in = 0.01 * (np.random.rand(2).reshape(-1,1) - 0.5)\n",
    "b = -8"
   ]
  },
  {
   "cell_type": "code",
   "execution_count": 14,
   "id": "2e29ca92",
   "metadata": {},
   "outputs": [
    {
     "name": "stdout",
     "output_type": "stream",
     "text": [
      "Iteration   0: Cost [3.73290618]   \n",
      "Iteration 1000: Cost [3.36817841]   \n",
      "Iteration 2000: Cost [3.00434956]   \n",
      "Iteration 3000: Cost [2.64252238]   \n",
      "Iteration 4000: Cost [2.28515391]   \n",
      "Iteration 5000: Cost [1.93756655]   \n",
      "Iteration 6000: Cost [1.61042992]   \n",
      "Iteration 7000: Cost [1.32162578]   \n",
      "Iteration 8000: Cost [1.09179396]   \n",
      "Iteration 9000: Cost [0.93088726]   \n"
     ]
    }
   ],
   "source": [
    "descent = gradient_descent(x,y,b,w_in,w_out,logistic_cost,logistic_gradient,0.001,10000)"
   ]
  },
  {
   "cell_type": "code",
   "execution_count": 15,
   "id": "13af11ec",
   "metadata": {},
   "outputs": [],
   "source": [
    "# Since the values will converge to 0 and 1 in logistic regression, a threshold limit of 0.5 is set.\n",
    " \n",
    "# Anything above this value is evaluated as 1 and below this value as 0.\n",
    "\n",
    "def predict(X,w,b):\n",
    "    \n",
    "    m,n = X.shape\n",
    "    \n",
    "    p = np.zeros(m)\n",
    "    \n",
    "    for i in range(m):\n",
    "        \n",
    "        z_wb = 0\n",
    "        \n",
    "        for j in range(n):      \n",
    "            z_wb = w[j] * X[i,j]\n",
    "            \n",
    "        f_wb = sigmoid(z_wb)\n",
    "        print(f_wb)\n",
    "        if (f_wb > 0.5):\n",
    "            p[i] = 1\n",
    "        else:\n",
    "            p[i] = 0\n",
    "            \n",
    "    return p\n",
    "    "
   ]
  },
  {
   "cell_type": "markdown",
   "id": "48703d8a",
   "metadata": {},
   "source": [
    "### Regularization\n",
    "\n",
    "Regularization is used for adjusting the conditions like overfitting and underfitting. \n",
    "\n",
    "Here by using the lambda value, weights can be increased or decreased. \n",
    "\n",
    "Regularization cost is added to the loss function."
   ]
  },
  {
   "cell_type": "code",
   "execution_count": 16,
   "id": "f4a3e49b",
   "metadata": {},
   "outputs": [],
   "source": [
    "def regularized_cost(X,y,w,b,lambda_ = 1):\n",
    "    \n",
    "    m,n = X.shape\n",
    "    \n",
    "    cost_without_reg = logistic_cost(X,y,w,b,lambda_)\n",
    "    \n",
    "    reg_cost = 0\n",
    "    \n",
    "    for j in range(n):\n",
    "        reg_cost += w[j]**2\n",
    "    \n",
    "        \n",
    "    total_cost = cost_without_reg + (lambda_ * reg_cost) / (2*m)"
   ]
  },
  {
   "cell_type": "code",
   "execution_count": 17,
   "id": "a6263cf8",
   "metadata": {},
   "outputs": [],
   "source": [
    "def regularized_gradient(X,y,w,b,lambda_ = 1):\n",
    "    \n",
    "    m, n = X.shape\n",
    "    \n",
    "    dj_dw,dj_db = logistic_gradient(X, y, w, b, lambda_)\n",
    "    \n",
    "    for j in range(n):\n",
    "        dj_dw[j] += (lambda_ / m) * w[j]\n",
    "     \n",
    "    return dj_dw, dj_db\n"
   ]
  },
  {
   "cell_type": "code",
   "execution_count": 18,
   "id": "855d32b0",
   "metadata": {},
   "outputs": [
    {
     "name": "stdout",
     "output_type": "stream",
     "text": [
      "Iteration   0: Cost None   \n",
      "Iteration 1000: Cost None   \n",
      "Iteration 2000: Cost None   \n",
      "Iteration 3000: Cost None   \n",
      "Iteration 4000: Cost None   \n",
      "Iteration 5000: Cost None   \n",
      "Iteration 6000: Cost None   \n",
      "Iteration 7000: Cost None   \n",
      "Iteration 8000: Cost None   \n",
      "Iteration 9000: Cost None   \n"
     ]
    }
   ],
   "source": [
    "w_in = 0.01 * (np.random.rand(2).reshape(-1,1) - 0.5)\n",
    "b = -8\n",
    "\n",
    "descent = gradient_descent(x,y,b,w_in,w_out,regularized_cost,regularized_gradient,0.001,10000, 1)"
   ]
  },
  {
   "cell_type": "code",
   "execution_count": 19,
   "id": "3601eaff",
   "metadata": {},
   "outputs": [
    {
     "data": {
      "text/plain": [
       "array([[1.96489179],\n",
       "       [2.10327962]])"
      ]
     },
     "execution_count": 19,
     "metadata": {},
     "output_type": "execute_result"
    }
   ],
   "source": [
    "descent[0]"
   ]
  },
  {
   "cell_type": "code",
   "execution_count": 20,
   "id": "214c764a",
   "metadata": {},
   "outputs": [
    {
     "name": "stdout",
     "output_type": "stream",
     "text": [
      "Iteration   0: Cost [3.73517272]   \n",
      "Iteration 1000: Cost [3.37044135]   \n",
      "Iteration 2000: Cost [3.00660429]   \n",
      "Iteration 3000: Cost [2.64475837]   \n",
      "Iteration 4000: Cost [2.28734744]   \n",
      "Iteration 5000: Cost [1.93966668]   \n",
      "Iteration 6000: Cost [1.61233914]   \n",
      "Iteration 7000: Cost [1.3232001]   \n",
      "Iteration 8000: Cost [1.09291204]   \n",
      "Iteration 9000: Cost [0.93155073]   \n"
     ]
    }
   ],
   "source": [
    "descent = gradient_descent(x,y,b,w_in,w_out,logistic_cost,logistic_gradient,0.001,10000)"
   ]
  },
  {
   "cell_type": "code",
   "execution_count": 21,
   "id": "7b80be7e",
   "metadata": {},
   "outputs": [
    {
     "data": {
      "text/plain": [
       "array([[2.26852816],\n",
       "       [2.43127296]])"
      ]
     },
     "execution_count": 21,
     "metadata": {},
     "output_type": "execute_result"
    }
   ],
   "source": [
    "descent[0]"
   ]
  }
 ],
 "metadata": {
  "kernelspec": {
   "display_name": "Python 3 (ipykernel)",
   "language": "python",
   "name": "python3"
  },
  "language_info": {
   "codemirror_mode": {
    "name": "ipython",
    "version": 3
   },
   "file_extension": ".py",
   "mimetype": "text/x-python",
   "name": "python",
   "nbconvert_exporter": "python",
   "pygments_lexer": "ipython3",
   "version": "3.10.4"
  }
 },
 "nbformat": 4,
 "nbformat_minor": 5
}
